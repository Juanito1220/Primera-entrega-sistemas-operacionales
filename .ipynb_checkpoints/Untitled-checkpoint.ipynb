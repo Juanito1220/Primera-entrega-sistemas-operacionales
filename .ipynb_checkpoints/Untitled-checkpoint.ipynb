{
 "cells": [
  {
   "cell_type": "markdown",
   "id": "5dc7194e",
   "metadata": {},
   "source": [
    "DESARROLLO DE SISTEMAS OPERACIONALES"
   ]
  },
  {
   "cell_type": "markdown",
   "id": "3bd95bf8",
   "metadata": {},
   "source": [
    "POLITÉCNICO GRANCOLOMBIANO"
   ]
  },
  {
   "cell_type": "markdown",
   "id": "27645a32",
   "metadata": {},
   "source": [
    "SISTEMAS OPERACIONALES"
   ]
  },
  {
   "cell_type": "markdown",
   "id": "b9c0cfd9",
   "metadata": {},
   "source": [
    "JUAN PABLO RODRÍGUEZ VELÁSQUEZ"
   ]
  },
  {
   "cell_type": "markdown",
   "id": "7ff52e0f",
   "metadata": {},
   "source": [
    "## INTRODUCCIÓN"
   ]
  },
  {
   "cell_type": "markdown",
   "id": "b476a825",
   "metadata": {},
   "source": [
    "El mundo de la tecnología crece de forma exponencial, el intercambio de información ha evolucionado de formas antes impensables, generando nuevos escenarios y nuevas necesidades que requieren de la implementación de nuevos dispositivos para el almacenamiento y transporte de la información.\n",
    "\n",
    "Dentro de los dispositivos mas comunes en estos tiempos, se encuentran los servidores, ordenadores con alta capacidad que permiten el procesamiento de la información entre diversos computadores, generando mecanismos de comunicación y seguridad.\n",
    "Reconocer la importancia del uso de los servidores es vital para el crecimiento de cualquier empresa que maneje un flujo de información considerable, no existe mejor forma de manipular información que no sea a través de un servidor. \n",
    "\n",
    "Muchas de las tecnologías actuales requieren de la implementación de servidores para un correcto funcionamiento, dentro de los servidores mas usado en el mundo actual están bajo el sistema operativo Linux. \n",
    "\n",
    "Estos servidores bajo este sistema operativo, logran el procesamiento de la información de forma eficaz, pero es necesario reconocer su funcionamiento, instalación, comandos y usos, para tener una mejor claridad de las ventajas que este posee.\n",
    "\n",
    "Este documento esta elaborado con el fin de identificar el proceso adecuado para la instalación de un servidor Linux a través de una maquina virtual y la configuración de un servidor cliente, para la creación de buenas practicas que permita familiarizar el uso de este tipo de herramientas que son muy utilizados en el mundo actual. "
   ]
  },
  {
   "cell_type": "markdown",
   "id": "4067cce9",
   "metadata": {},
   "source": [
    "# OBJETIVOS"
   ]
  },
  {
   "cell_type": "markdown",
   "id": "e6ee551d",
   "metadata": {},
   "source": [
    "## OBJETIVO ESPECIFICO"
   ]
  },
  {
   "cell_type": "markdown",
   "id": "eba884e2",
   "metadata": {},
   "source": [
    "Identificar el proceso adecuado para la instalación de servidor bajo la plataforma Linux, que permita la configuración para un modelo de comunicación cliente servidor , de tal forma que se pueda generar el intercambio de información correspondiente entre dispositivos."
   ]
  },
  {
   "cell_type": "markdown",
   "id": "fabd9f3c",
   "metadata": {},
   "source": [
    "## OBJETIVOS GENERALES"
   ]
  },
  {
   "cell_type": "markdown",
   "id": "15ff3692",
   "metadata": {},
   "source": [
    "\tDiseñar el modelo de comunicación cliente servidor de un nodo servidor y dos clientes en máquina virtual\n",
    "\n",
    "\tMontar el sistema operativo Linux CentOS en una maquina virtual con especificaciones concretas.\n",
    "\n",
    "\tActualizar el sistema operativo y generar una copia de respaldo.\n",
    "\n",
    "\tGenerar el clon de MV para la creación del servidor cliente.\n",
    "\n",
    "\tDescribir el procedimiento adecuado para establecer comunicación entre los dispositivos nombrados anteriormente. "
   ]
  },
  {
   "cell_type": "markdown",
   "id": "af5f5c1e",
   "metadata": {},
   "source": [
    "# JUSTIFICACIÓN"
   ]
  },
  {
   "cell_type": "markdown",
   "id": "87e74b1b",
   "metadata": {},
   "source": [
    "Es importante familiarizarse con el uso de servidores bajo la plataforma Linux, ya que, en el mundo actual, los mejores servidores con mayores garantías y protección, están bajo esta plataforma; en el mercado actual, se destacan estos servidores por su gran versatilidad, seguridad y contabilidad.\n",
    "\n",
    "Dentro de las ventajas de utilizar servidores Linux se pueden destacar:\n",
    "\n",
    "\tGran estabilidad para el procesamiento de la información.\n",
    "\n",
    "\tManeja cantidades colosales de datos y de procesos de forma fluida sin presentar ningún fallo.\n",
    "\n",
    "\tFlexibilidad para optimizar el uso de los recursos , muy utilizado para diversas compañías que requieren de calidad en el procesamiento de la información. \n",
    "\n",
    "\tCon capacidad para actualizaciones constantes que ayudan a mejorar el rendimiento en comparación con otros sistemas operativos más cerrados.\n",
    "\n",
    "\tCuenta con un sistema de seguridad optima que permite a los usuarios con conocimientos del sistema, depurar los posibles fallos, para poder corregir y evitar fallos con la seguridad de forma ágil.\n",
    "\n",
    "\tPosee la capacidad de manipular los servicios que requiera el cliente por ser un sistema con gran libertad a diferencia de otros sistemas operativos mas cerrados.\n",
    "\n",
    "\tFinalmente, su manipulación es muy fácil de aprender y controlar, generando una buena experiencia con el usuario."
   ]
  },
  {
   "cell_type": "markdown",
   "id": "623a6c98",
   "metadata": {},
   "source": [
    "# GLOSARIO"
   ]
  },
  {
   "cell_type": "markdown",
   "id": "63c89613",
   "metadata": {},
   "source": [
    "Modelo cliente servidor: es un modelo de diseño de software en el que las tareas se reparten entre los proveedores de recursos o servicios, llamados servidores, y los demandantes, llamados clientes. Un cliente realiza peticiones a otro programa, el servidor, quien le da respuesta.\n",
    "\n",
    "Máquina virtual: Las máquinas virtuales son ordenadores de software que proporcionan la misma funcionalidad que los ordenadores físicos. Como ocurre con los ordenadores físicos, ejecutan aplicaciones y un sistema operativo.\n",
    "\n",
    "Macadress:  La Mac Address o dirección Mac es un identificador único de 48 bits para identificar la totalidad de dispositivos de red como por ejemplo tarjetas de red Ethernet, tarjetas de red wifi o inalámbricas, Switch de red, Routers, impresoras, etc.\n",
    "\n",
    "Servidor: es un conjunto de computadoras capaz de atender las peticiones de un cliente y devolverle una respuesta en concordancia. Los servidores se pueden ejecutar en cualquier tipo de computadora, incluso en computadoras dedicadas a las cuales se les conoce individualmente como el servidor.\n",
    "\n",
    "Linux: es un sistema operativo open source gratuito que se lanza en virtud de la Licencia Pública General de GNU (GPL)."
   ]
  },
  {
   "cell_type": "markdown",
   "id": "b7d886bc",
   "metadata": {},
   "source": [
    "# MARCO TEÓRICO"
   ]
  },
  {
   "cell_type": "markdown",
   "id": "e89dd985",
   "metadata": {},
   "source": [
    "Linux aparece para la década de los noventa en el año 1991, en la universidad de Helsinki con un estudiante llamado Linus Torvalds, inspirado en MINIX un sistema operativo desarrollado por Andy Tanenbaum; surgió inicialmente como un sistema operativo en lenguaje ensamblador, el cual ni siquiera ejecutable.\n",
    "\n",
    "Los principales programas responsables de interactuar con el kernel fueron creados por la fundación GNU. Por este motivo es más correcto referirse al sistema operativo como GNU/Linux en lugar de Linux. Hoy en día tenemos miles de aplicaciones para la plataforma GNU/Linux, donde cada empresa responsable de una distro elige las aplicaciones que en ella deben ser incluidas.\n",
    "\n",
    "Linux tiene varios modelos, y estos se denominan distribuciones. Cada distribución tiene sus particularidades, tales como la forma de instalar un paquete, la interfaz de instalación del sistema operativo en sí, la interfaz gráfica y el soporte de hardware. Entonces le queda al usuario definir qué distribución se adapta mejor a sus necesidades.\n",
    "\n",
    "La denominación \"Linux\" fue utilizada inicialmente por Torvalds sólo para el núcleo Linux. Sin embargo, el núcleo se utilizaba frecuentemente junto con otro software, especialmente el del proyecto GNU. Esto se convirtió rápidamente en la adopción más popular del software GNU. En junio de 1994, en el boletín de GNU, se hacía referencia a Linux como un \"clon de UNIX libre\", y el Proyecto Debian comenzó a llamar a su producto Debian GNU/Linux. En mayo de 1996, Richard Stallman publicó el editor Emacs 19.31, en el que el tipo de sistema pasó de llamarse Linux a Lignux. Esta ortografía pretendía referirse específicamente a la combinación de GNU y Linux, pero pronto se abandonó en favor de \"GNU/Linux\n",
    "\n",
    "## CENTOS\n",
    "\n",
    "Antes de darse a conocer con su nombre actual, CentOS se originó como un artefacto de compilación de cAos Linux .\n",
    "\n",
    "En junio de 2006, David Parsley, el desarrollador principal de Tao Linux (otro clon de RHEL), anunció el retiro de Tao Linux y su implementación en CentOS. Los usuarios de Tao migraron a la versión CentOS a través de la actualización de yum.\n",
    "\n",
    "En julio de 2010, CentOS superó a Debian para convertirse en la distribución de Linux más popular para servidores web, con casi el 30% de todos los servidores web de Linux que la usaban. Debian retomó el liderazgo en enero de 2012. A Octubre 2018, Ubuntu es la distro que más se emplea en el mundo de las paginas web, con el 37%, seguido por Debian con el 23% y CentOS con el 18%.\n",
    "\n",
    "En enero de 2014, Red Hat anunció que patrocinaría el proyecto CentOS, “ayudando a establecer una plataforma adecuada para las necesidades de los desarrolladores de código abierto que integran tecnologías en y alrededor del sistema operativo”. Como resultado de estos cambios, la propiedad de las marcas comerciales de CentOS se transfirió a Red Hat, que ahora emplea a la mayoría de los desarrolladores principales de CentOS; sin embargo, funcionan como parte del equipo de código abierto y estándares de Red Hat, que opera por separado del equipo de Red Hat Enterprise Linux.También se estableció una nueva junta directiva de CentOS\n",
    "\n",
    "\n",
    "A pesar de estar disponible libremente, las empresas se benefician de Linux. Estas empresas, muchas de las cuales también son miembros de la Fundación Linux, invierten recursos sustanciales en el avance y desarrollo de Linux, para que sea adecuado a las diversas áreas de aplicación. Esto incluye donaciones de hardware para desarrolladores de controladores, donaciones en efectivo para personas que desarrollan software de Linux y el empleo de programadores de Linux en la empresa. Algunos ejemplos son Dell, IBM y Hewlett-Packard, que validan, usan y venden Linux en sus propios servidores, y Red Hat y SUSE, que mantienen sus propias distribuciones empresariales. \n"
   ]
  },
  {
   "cell_type": "markdown",
   "id": "dcdf542e",
   "metadata": {},
   "source": [
    "# SITUACIÓN PROBLEMA"
   ]
  },
  {
   "cell_type": "markdown",
   "id": "8d4c99c4",
   "metadata": {},
   "source": [
    "Se desea diseñar un modelo de comunicación cliente servidor de un nodo servidor y dos clientes en máquinas virtuales.\n",
    "\n",
    "Se deberá instalar en el VirtualBox 5.2 el sistema operativo Linux CentOs 6.8 con capacidad de 40GB de disco, un Core y 1024 gb de memoria RAM.\n",
    "\n",
    "Es necesario actualizar el sistema operacional(yum- y update) y exportar para generar una copia de respaldo.\n",
    "\n",
    "Finalmente se deberá clonar la MV con una nueva macadress y crear el servidor cliente.\n",
    "\n",
    "Para llevar a cabo esta practica es necesario reconocer algunos bases sobre el sistema operativo Linux y la importancia de uso en la actualidad, para la implementación del mismo en la practica a realizar.\n",
    "\n",
    "Es indispensable contar con las herramientas de instalación y los medios donde se podrán obtener los recursos, de tal manera que se pueda ejecutar las operaciones correspondientes. \n"
   ]
  },
  {
   "cell_type": "markdown",
   "id": "3258d437",
   "metadata": {},
   "source": [
    "# DESARROLLO DE LA PROBLEMÁTICA "
   ]
  },
  {
   "cell_type": "markdown",
   "id": "b94c74f9",
   "metadata": {},
   "source": [
    "Para el diseño del modelo de comunicación, se utilizará el software de Cisco Packet Tracer; con esta herramienta se elaboró el siguiente diagrama."
   ]
  },
  {
   "cell_type": "markdown",
   "id": "e06f5a58",
   "metadata": {},
   "source": [
    "  <img src='Imagen1.jpg'>"
   ]
  },
  {
   "cell_type": "markdown",
   "id": "341b7750",
   "metadata": {},
   "source": [
    "El siguiente paso a seguir será la instalación del Linux CentOS 6.8 en la maquina VirtualBox 5.2."
   ]
  },
  {
   "cell_type": "markdown",
   "id": "7412f6d0",
   "metadata": {},
   "source": [
    "Lo primero será descargar la herramienta VirtualBox de la siguiente pagina "
   ]
  },
  {
   "cell_type": "markdown",
   "id": "5f53f6e1",
   "metadata": {},
   "source": [
    "https://www.virtualbox.org/ . "
   ]
  },
  {
   "cell_type": "markdown",
   "id": "2c213d52",
   "metadata": {},
   "source": [
    "   <img src='2.jpg'>"
   ]
  },
  {
   "cell_type": "markdown",
   "id": "a2186b25",
   "metadata": {},
   "source": [
    "Se debera seguir la secuencia de pasos basicos para su instalación"
   ]
  },
  {
   "cell_type": "markdown",
   "id": "5b9f3f4b",
   "metadata": {},
   "source": [
    "   <img src='3.jpg'>"
   ]
  },
  {
   "cell_type": "markdown",
   "id": "4f7885c8",
   "metadata": {},
   "source": [
    "   <img src='4.jpg'>"
   ]
  },
  {
   "cell_type": "markdown",
   "id": "ff203e5b",
   "metadata": {},
   "source": [
    "   <img src='5.jpg'>"
   ]
  },
  {
   "cell_type": "markdown",
   "id": "bf2f2fdd",
   "metadata": {},
   "source": [
    "   <img src='6.jpg'>"
   ]
  },
  {
   "cell_type": "markdown",
   "id": "4d5e8d3a",
   "metadata": {},
   "source": [
    "   <img src='7.jpg'>"
   ]
  },
  {
   "cell_type": "markdown",
   "id": "5509e8e1",
   "metadata": {},
   "source": [
    "   <img src='8.jpg'>"
   ]
  },
  {
   "cell_type": "markdown",
   "id": "cf9c8661",
   "metadata": {},
   "source": [
    "Se deberá realizar la configuración correspondiente"
   ]
  },
  {
   "cell_type": "markdown",
   "id": "7efaae87",
   "metadata": {},
   "source": [
    "   <img src='9.jpg'>"
   ]
  },
  {
   "cell_type": "markdown",
   "id": "b9d6dd07",
   "metadata": {},
   "source": [
    "En la opción de archivos se dará click en la opción preferencias."
   ]
  },
  {
   "cell_type": "markdown",
   "id": "04f9deb4",
   "metadata": {},
   "source": [
    "   <img src='10.jpg'>"
   ]
  },
  {
   "cell_type": "markdown",
   "id": "f7000cca",
   "metadata": {},
   "source": [
    "Se deberá activar la opción de comprobar actualizaciones. "
   ]
  },
  {
   "cell_type": "markdown",
   "id": "12e47280",
   "metadata": {},
   "source": [
    "   <img src='11.jpg'>"
   ]
  },
  {
   "cell_type": "markdown",
   "id": "8f48b353",
   "metadata": {},
   "source": [
    "En la opción de nueva se creará una nueva máquina virtual"
   ]
  },
  {
   "cell_type": "markdown",
   "id": "741e9bbd",
   "metadata": {},
   "source": [
    "   <img src='12.jpg'>"
   ]
  },
  {
   "cell_type": "markdown",
   "id": "124de8cd",
   "metadata": {},
   "source": [
    "Es necesario descargar el ISO del sistema operativo en la página "
   ]
  },
  {
   "cell_type": "markdown",
   "id": "0ac2ef02",
   "metadata": {},
   "source": [
    "http://ftp.riken.jp/Linux/centos-vault/6.8/isos/x86_64/"
   ]
  },
  {
   "cell_type": "markdown",
   "id": "52c1bbc5",
   "metadata": {},
   "source": [
    "   <img src='13.jpg'>"
   ]
  },
  {
   "cell_type": "markdown",
   "id": "088edfeb",
   "metadata": {},
   "source": [
    "Se realizan unas configuraciones por defecto "
   ]
  },
  {
   "cell_type": "markdown",
   "id": "d28df01c",
   "metadata": {},
   "source": [
    "   <img src='14.jpg'>"
   ]
  },
  {
   "cell_type": "markdown",
   "id": "6abfde7b",
   "metadata": {},
   "source": [
    "Se deberá configurar el almacenamiento a 40GB de disco y 1024 gb de memoria RAM."
   ]
  },
  {
   "cell_type": "markdown",
   "id": "c1402798",
   "metadata": {},
   "source": [
    "   <img src='15.jpg'>"
   ]
  },
  {
   "cell_type": "markdown",
   "id": "33501f90",
   "metadata": {},
   "source": [
    "   <img src='16.jpg'>"
   ]
  },
  {
   "cell_type": "markdown",
   "id": "631567d1",
   "metadata": {},
   "source": [
    "Se dara la información de la configuración realizada anteriormente. "
   ]
  },
  {
   "cell_type": "markdown",
   "id": "22d228f7",
   "metadata": {},
   "source": [
    "   <img src='17.jpg'>"
   ]
  },
  {
   "cell_type": "markdown",
   "id": "b9556af6",
   "metadata": {},
   "source": [
    "   <img src='18.jpg'>"
   ]
  },
  {
   "cell_type": "markdown",
   "id": "80b055c8",
   "metadata": {},
   "source": [
    "Se debe cargar la imagen ISO del sistema operativo y configurar la red en la opción Adaptador puente."
   ]
  },
  {
   "cell_type": "markdown",
   "id": "7bef8e5e",
   "metadata": {},
   "source": [
    "  <img src='19.jpg'>"
   ]
  },
  {
   "cell_type": "markdown",
   "id": "fa949d99",
   "metadata": {},
   "source": [
    "Se cargará la imagen ISO descargada de la pagina oficial. "
   ]
  },
  {
   "cell_type": "markdown",
   "id": "4bc48b6f",
   "metadata": {},
   "source": [
    "  <img src='20.jpg'>"
   ]
  },
  {
   "cell_type": "markdown",
   "id": "5bd450e8",
   "metadata": {},
   "source": [
    "Se dara click en la opción iniciar y luego mostrar, para iniciar la instalación."
   ]
  },
  {
   "cell_type": "markdown",
   "id": "452ab603",
   "metadata": {},
   "source": [
    "  <img src='21.jpg'>"
   ]
  },
  {
   "cell_type": "markdown",
   "id": "a1a2204f",
   "metadata": {},
   "source": [
    "Se seleccionara la primera opción para instalción"
   ]
  },
  {
   "cell_type": "markdown",
   "id": "e23e3a43",
   "metadata": {},
   "source": [
    "  <img src='22.jpg'>"
   ]
  },
  {
   "cell_type": "markdown",
   "id": "18401af9",
   "metadata": {},
   "source": [
    "  <img src='23.jpg'>"
   ]
  },
  {
   "cell_type": "markdown",
   "id": "ee56586d",
   "metadata": {},
   "source": [
    "Se seleccioanra la opción Skip para continuar con la instalación "
   ]
  },
  {
   "cell_type": "markdown",
   "id": "fb99921b",
   "metadata": {},
   "source": [
    "  <img src='24.jpg'>"
   ]
  },
  {
   "cell_type": "markdown",
   "id": "1d006817",
   "metadata": {},
   "source": [
    "Selección del idioma "
   ]
  },
  {
   "cell_type": "markdown",
   "id": "3b5b046a",
   "metadata": {},
   "source": [
    "  <img src='25.jpg'>"
   ]
  },
  {
   "cell_type": "markdown",
   "id": "e9f2d200",
   "metadata": {},
   "source": [
    "Se dejará con la configuración por defecto\n"
   ]
  },
  {
   "cell_type": "markdown",
   "id": "6ef26c5b",
   "metadata": {},
   "source": [
    "  <img src='26.jpg'>\n"
   ]
  },
  {
   "cell_type": "markdown",
   "id": "a638821c",
   "metadata": {},
   "source": [
    "Se elegirá la opción de descartar todos los datos."
   ]
  },
  {
   "cell_type": "markdown",
   "id": "df67e8d5",
   "metadata": {},
   "source": [
    "  <img src='27.jpg'>"
   ]
  },
  {
   "cell_type": "markdown",
   "id": "631ba082",
   "metadata": {},
   "source": [
    "Se establece el nombre del servidor"
   ]
  },
  {
   "cell_type": "markdown",
   "id": "4f7b0c80",
   "metadata": {},
   "source": [
    "  <img src='28.jpg'>"
   ]
  },
  {
   "cell_type": "markdown",
   "id": "88a00c8e",
   "metadata": {},
   "source": [
    "Se configura la zona horaria"
   ]
  },
  {
   "cell_type": "markdown",
   "id": "48d6e753",
   "metadata": {},
   "source": [
    "  <img src='29.jpg'>"
   ]
  },
  {
   "cell_type": "markdown",
   "id": "4b63a863",
   "metadata": {},
   "source": [
    "Se establece la contraseña para el servidor"
   ]
  },
  {
   "cell_type": "markdown",
   "id": "674e37a1",
   "metadata": {},
   "source": [
    "  <img src='30.jpg'>"
   ]
  },
  {
   "cell_type": "markdown",
   "id": "812de79b",
   "metadata": {},
   "source": [
    "Se dejarán las configuraciones por defecto"
   ]
  },
  {
   "cell_type": "markdown",
   "id": "510892b6",
   "metadata": {},
   "source": [
    "  <img src='31.jpg'>"
   ]
  },
  {
   "cell_type": "markdown",
   "id": "26214546",
   "metadata": {},
   "source": [
    "Se dará en la opción escribir cambios"
   ]
  },
  {
   "cell_type": "markdown",
   "id": "9a33efe8",
   "metadata": {},
   "source": [
    "  <img src='32.jpg'>"
   ]
  },
  {
   "cell_type": "markdown",
   "id": "eb6dc8bf",
   "metadata": {},
   "source": [
    "Se realiza la instalación de todos los componentes"
   ]
  },
  {
   "cell_type": "markdown",
   "id": "38f41c24",
   "metadata": {},
   "source": [
    "  <img src='33.jpg'>"
   ]
  },
  {
   "cell_type": "markdown",
   "id": "6787f58b",
   "metadata": {},
   "source": [
    "Se notificara que la instalación fue un exito"
   ]
  },
  {
   "cell_type": "markdown",
   "id": "4ef8b77b",
   "metadata": {},
   "source": [
    "  <img src='34.jpg'>"
   ]
  },
  {
   "cell_type": "markdown",
   "id": "65375a6b",
   "metadata": {},
   "source": [
    "  <img src='35.jpg'>"
   ]
  },
  {
   "cell_type": "markdown",
   "id": "d39cf8eb",
   "metadata": {},
   "source": [
    "Inicia el sistema operativo "
   ]
  },
  {
   "cell_type": "markdown",
   "id": "036a8d36",
   "metadata": {},
   "source": [
    "  <img src='36.jpg'>"
   ]
  },
  {
   "cell_type": "markdown",
   "id": "823b958d",
   "metadata": {},
   "source": [
    "Se realizan las configuraciones iniciales"
   ]
  },
  {
   "cell_type": "markdown",
   "id": "9f0cf3c1",
   "metadata": {},
   "source": [
    "  <img src='37.jpg'>"
   ]
  },
  {
   "cell_type": "markdown",
   "id": "ff73a385",
   "metadata": {},
   "source": [
    "Se establece el nombre y credenciales del usuario"
   ]
  },
  {
   "cell_type": "markdown",
   "id": "c2ef7cf1",
   "metadata": {},
   "source": [
    "  <img src='38.jpg'>"
   ]
  },
  {
   "cell_type": "markdown",
   "id": "71340f27",
   "metadata": {},
   "source": [
    "Configuración de la decha y hora"
   ]
  },
  {
   "cell_type": "markdown",
   "id": "e6fe9667",
   "metadata": {},
   "source": [
    "  <img src='39.jpg'>"
   ]
  },
  {
   "cell_type": "markdown",
   "id": "6f8f48b0",
   "metadata": {},
   "source": [
    "  <img src='40.jpg'>"
   ]
  },
  {
   "cell_type": "markdown",
   "id": "f9ff2bc4",
   "metadata": {},
   "source": [
    "Inicio de sesión con credenciales"
   ]
  },
  {
   "cell_type": "markdown",
   "id": "d38aa898",
   "metadata": {},
   "source": [
    "  <img src='41.jpg'>"
   ]
  },
  {
   "cell_type": "markdown",
   "id": "9cf9fec5",
   "metadata": {},
   "source": [
    "Arranque finalizado del sistema "
   ]
  },
  {
   "cell_type": "markdown",
   "id": "40e7e75d",
   "metadata": {},
   "source": [
    "  <img src='42.jpg'>"
   ]
  },
  {
   "cell_type": "markdown",
   "id": "1512b2a4",
   "metadata": {},
   "source": [
    "Para la siguiente fase se deberá actualizar el sistema operacional yum- update y luego se exportará para generar una copia de respaldo."
   ]
  },
  {
   "cell_type": "markdown",
   "id": "7df46f41",
   "metadata": {},
   "source": [
    "El comando Yum (abreviatura de yellowdog updater modified), es una herramienta de administración de software, usada para instalar, actualizar y eliminar grupos de paquetes, así como sus dependencias en distribuciones Linux basados en RPM como red hat, feedora, centos y otros."
   ]
  },
  {
   "cell_type": "markdown",
   "id": "11cdef25",
   "metadata": {},
   "source": [
    "En el siguiente menú se ingresará a la consola para ingresar el comando yum -y update para las actualizaciones correspondientes. "
   ]
  },
  {
   "cell_type": "markdown",
   "id": "41f7f7ae",
   "metadata": {},
   "source": [
    "  <img src='43.jpg'>"
   ]
  },
  {
   "cell_type": "markdown",
   "id": "c9d9d587",
   "metadata": {},
   "source": [
    "Se ingresa el comando correspondiente para la actualización "
   ]
  },
  {
   "cell_type": "markdown",
   "id": "bf5fd995",
   "metadata": {},
   "source": [
    "  <img src='44.jpg'>"
   ]
  },
  {
   "cell_type": "markdown",
   "id": "24576422",
   "metadata": {},
   "source": [
    "Inicia la instalación de paquetes"
   ]
  },
  {
   "cell_type": "markdown",
   "id": "2c2e995b",
   "metadata": {},
   "source": [
    "  <img src='45.jpg'>"
   ]
  },
  {
   "cell_type": "markdown",
   "id": "bc1bb050",
   "metadata": {},
   "source": [
    "Con la instalación realizada, se procedera a realizar una exportación para tener una copia de respaldo; para ello se realiza el siguiente proceso:"
   ]
  },
  {
   "cell_type": "markdown",
   "id": "8d809a98",
   "metadata": {},
   "source": [
    "  <img src='46.jpg'>"
   ]
  },
  {
   "cell_type": "markdown",
   "id": "6a3f24f4",
   "metadata": {},
   "source": [
    "Se dara click en exportar servicio virtualizado."
   ]
  },
  {
   "cell_type": "markdown",
   "id": "f70cba36",
   "metadata": {},
   "source": [
    "  <img src='47.jpg'>"
   ]
  },
  {
   "cell_type": "markdown",
   "id": "dde43919",
   "metadata": {},
   "source": [
    "Se selecciona el sistema operativo a exportar"
   ]
  },
  {
   "cell_type": "markdown",
   "id": "d6b42dc4",
   "metadata": {},
   "source": [
    "  <img src='48.jpg'>"
   ]
  },
  {
   "cell_type": "markdown",
   "id": "c313aba6",
   "metadata": {},
   "source": [
    "Se guarda la copia en alguna ubicación del computador"
   ]
  },
  {
   "cell_type": "markdown",
   "id": "434423c0",
   "metadata": {},
   "source": [
    "  <img src='49.jpg'>"
   ]
  },
  {
   "cell_type": "markdown",
   "id": "28558e7a",
   "metadata": {},
   "source": [
    "Se procede a realizar la copia de seguridad"
   ]
  },
  {
   "cell_type": "markdown",
   "id": "7cf27b76",
   "metadata": {},
   "source": [
    "  <img src='50.jpg'>"
   ]
  },
  {
   "cell_type": "markdown",
   "id": "6cc900a0",
   "metadata": {},
   "source": [
    "Se iniciar al exportación de la copia."
   ]
  },
  {
   "cell_type": "markdown",
   "id": "0045abc9",
   "metadata": {},
   "source": [
    "Finalimente queda la exportación en la carpeta correspondiente."
   ]
  },
  {
   "cell_type": "markdown",
   "id": "a5052279",
   "metadata": {},
   "source": [
    "  <img src='51.jpg'>"
   ]
  },
  {
   "cell_type": "markdown",
   "id": "02acb258",
   "metadata": {},
   "source": [
    "Finalmente se debera Clonar la MV con una nueva macadress y crear el servidor cliente."
   ]
  },
  {
   "cell_type": "markdown",
   "id": "1e498764",
   "metadata": {},
   "source": [
    "Para la clonación se realizara el siguiente proceso"
   ]
  },
  {
   "cell_type": "markdown",
   "id": "1f16f8a0",
   "metadata": {},
   "source": [
    "Click derecho sobre el sistema operativo y luego en la opción clonar"
   ]
  },
  {
   "cell_type": "markdown",
   "id": "18b882b8",
   "metadata": {},
   "source": [
    "  <img src='52.jpg'>"
   ]
  },
  {
   "cell_type": "markdown",
   "id": "d354648a",
   "metadata": {},
   "source": [
    "Se asignara un nombre para la clonación y se dara en la opción siguiente"
   ]
  },
  {
   "cell_type": "markdown",
   "id": "1e31f1f7",
   "metadata": {},
   "source": [
    "  <img src='53.jpg'>"
   ]
  },
  {
   "cell_type": "markdown",
   "id": "861370c5",
   "metadata": {},
   "source": [
    "Se debera dar en la opción de clonación completa"
   ]
  },
  {
   "cell_type": "markdown",
   "id": "8555f882",
   "metadata": {},
   "source": [
    "  <img src='54.jpg'>"
   ]
  },
  {
   "cell_type": "markdown",
   "id": "b107245c",
   "metadata": {},
   "source": [
    "Iniciara el proceso de clonación"
   ]
  },
  {
   "cell_type": "markdown",
   "id": "61d94010",
   "metadata": {},
   "source": [
    "  <img src='55.jpg'>"
   ]
  },
  {
   "cell_type": "markdown",
   "id": "7b5b47dd",
   "metadata": {},
   "source": [
    "Finalizado la clonación se observara el clon del sistema operativo"
   ]
  },
  {
   "cell_type": "markdown",
   "id": "651c2ad6",
   "metadata": {},
   "source": [
    "  <img src='56.jpg'>"
   ]
  },
  {
   "cell_type": "markdown",
   "id": "68ce8ca9",
   "metadata": {},
   "source": [
    "Para finalizar se realizara la asignación de la macadress y la creación del servidor cliente. "
   ]
  },
  {
   "cell_type": "markdown",
   "id": "598ec33e",
   "metadata": {},
   "source": [
    "Se debera realizar una segunda clonación para el cliente 2 y asi tener el servidor principal y los dos clientes."
   ]
  },
  {
   "cell_type": "markdown",
   "id": "5321e910",
   "metadata": {},
   "source": [
    "  <img src='57.jpg'>"
   ]
  },
  {
   "cell_type": "markdown",
   "id": "df063aff",
   "metadata": {},
   "source": [
    "Una vez se tenga el servidor y los 2 clientes, se procedera a la configuración de la red para cada uno."
   ]
  },
  {
   "cell_type": "markdown",
   "id": "26864cb6",
   "metadata": {},
   "source": [
    "Se debera poner cada dispositivo a correr y verificar la configuración de red de cada uno\n"
   ]
  },
  {
   "cell_type": "markdown",
   "id": "b7c50c43",
   "metadata": {},
   "source": [
    "Se abrira la terminal y se ingresara el comando ip addr, con este comando se verna las especificaciones de red de cada uno"
   ]
  },
  {
   "cell_type": "markdown",
   "id": "95a2cc76",
   "metadata": {},
   "source": [
    "  <img src='58.jpg'>"
   ]
  },
  {
   "cell_type": "markdown",
   "id": "550c817a",
   "metadata": {},
   "source": [
    "Como se evidencia el servidor no tiene acceso a los clientes, para ello, es necesario activar la red y la configuración correspondiente"
   ]
  },
  {
   "cell_type": "markdown",
   "id": "4efded5f",
   "metadata": {},
   "source": [
    "En la terminal se ingresara el siguiente comando"
   ]
  },
  {
   "cell_type": "markdown",
   "id": "c515df17",
   "metadata": {},
   "source": [
    "  <img src='59.jpg'>"
   ]
  },
  {
   "cell_type": "markdown",
   "id": "1c9af830",
   "metadata": {},
   "source": [
    "Con esta instrucción se accedera al siguiente menú"
   ]
  },
  {
   "cell_type": "markdown",
   "id": "e93ff95c",
   "metadata": {},
   "source": [
    "  <img src='60.jpg'>"
   ]
  },
  {
   "cell_type": "markdown",
   "id": "811d197e",
   "metadata": {},
   "source": [
    "En este menú, se presionara la tecla i, para cambiar la opción ONBOOT=yes, una vez cambiado la opción, se debera ingresar :wq para hacer guardar los cambios"
   ]
  },
  {
   "cell_type": "markdown",
   "id": "3fbad877",
   "metadata": {},
   "source": [
    "Con esta configuración quedara activada la red para el servidor."
   ]
  },
  {
   "cell_type": "markdown",
   "id": "3bdc90c8",
   "metadata": {},
   "source": [
    "Para verificar que estan conectados se realizara un ping entre ellos."
   ]
  },
  {
   "cell_type": "markdown",
   "id": "ec8f7217",
   "metadata": {},
   "source": [
    "  <img src='61.jpg'>"
   ]
  },
  {
   "cell_type": "markdown",
   "id": "1ec0e18c",
   "metadata": {},
   "source": [
    "Finalmente a quedado configurado el servidor con los clientes; si se desea se podra establecer una ip estaica a cada dispositivo de ser necesario"
   ]
  },
  {
   "cell_type": "markdown",
   "id": "bbec96c2",
   "metadata": {},
   "source": [
    "# REFERENCIAS"
   ]
  },
  {
   "cell_type": "markdown",
   "id": "c718fc0f",
   "metadata": {},
   "source": [
    "Torres Escobar, F. (2014). Linux para usuarios.. Ministerio de Educación y Formación Profesional de España. https://elibro.net/es/lc/poligran/titulos/49377\n",
    "\n",
    "Serna, M. & Allende, S. (2020). Sistemas operativos: Linux.. Jorge Sarmiento Editor - Universitas. https://elibro.net/es/lc/poligran/titulos/175148\n",
    "\n",
    "Gómez López, J. (2015). Administración de sistema operativos.. RA-MA Editorial. https://elibro.net/es/lc/poligran/titulos/62479\n"
   ]
  },
  {
   "cell_type": "markdown",
   "id": "b6aab4bc",
   "metadata": {},
   "source": [
    "https://www.hostdime.la/blog/que-es-centos-que-significa-y-que-hace-es-linux-redhat-open-source/#:~:text=Un%20poco%20de%20historia,y%20su%20implementaci%C3%B3n%20en%20CentOS."
   ]
  },
  {
   "cell_type": "code",
   "execution_count": null,
   "id": "3a621fac",
   "metadata": {},
   "outputs": [],
   "source": []
  }
 ],
 "metadata": {
  "kernelspec": {
   "display_name": "Python 3 (ipykernel)",
   "language": "python",
   "name": "python3"
  },
  "language_info": {
   "codemirror_mode": {
    "name": "ipython",
    "version": 3
   },
   "file_extension": ".py",
   "mimetype": "text/x-python",
   "name": "python",
   "nbconvert_exporter": "python",
   "pygments_lexer": "ipython3",
   "version": "3.9.7"
  }
 },
 "nbformat": 4,
 "nbformat_minor": 5
}
